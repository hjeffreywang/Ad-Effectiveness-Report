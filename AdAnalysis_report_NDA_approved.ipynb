{
 "cells": [
  {
   "cell_type": "markdown",
   "id": "041dedb6",
   "metadata": {
    "id": "N_VVfqOPo78F",
    "papermill": {
     "duration": 0.014038,
     "end_time": "2023-03-03T12:14:35.463138",
     "exception": false,
     "start_time": "2023-03-03T12:14:35.449100",
     "status": "completed"
    },
    "tags": []
   },
   "source": [
    "# Ad Effectiveness: Analysis of Ad Interactivity and Location "
   ]
  },
  {
   "cell_type": "markdown",
   "id": "6814e5bd",
   "metadata": {},
   "source": [
    "Github link: https://github.com/hjeffreywang/Ad-Effectiveness-Report"
   ]
  },
  {
   "cell_type": "markdown",
   "id": "fae4905a",
   "metadata": {},
   "source": [
    "-----\n",
    "\n",
    "#### =========================================================================================================================\n",
    "\n",
    "# Work below"
   ]
  },
  {
   "cell_type": "markdown",
   "id": "76ee335d",
   "metadata": {
    "id": "8MhJcWLbMInE",
    "papermill": {
     "duration": 0.01458,
     "end_time": "2023-03-03T12:14:35.492270",
     "exception": false,
     "start_time": "2023-03-03T12:14:35.477690",
     "status": "completed"
    },
    "tags": []
   },
   "source": [
    "## **Scenario** \n",
    "We are given data from ad sites such as google and facebook, how can these metrics be used to create actionable insights for the rest of the teams? Done in presentation form for ease of process. \n",
    "\n",
    "## **Goal** \n",
    "ABCJewelry wishes to increase sales while also reducing ad costs. Our job is to find actionable insights to help with those decisions.\n",
    "\n",
    "\n",
    "## **Key Tasks**  \n",
    "1.   Data Acquisition and Exploration\n",
    "2.   Feature Processing\n",
    "3.   Data Analysis\n",
    "4.   Data Engineering\n",
    "5.   Visualization Development\n",
    "\n",
    "## **Deliverables** \n",
    "1. How effective are our ads? (appearances, clicks, and Clicks/Appearance ratio)\n",
    "2. Which ads are best? (Campaign, Site, Platform)\n",
    "3. How long before ads become ineffective (# of appearances vs length of time)\n",
    "4. Where are our audience? (Most campaigns, most appearances, most clicks)\n",
    "\n",
    "\n",
    "\n",
    "\n",
    "---\n",
    "\n",
    "\n"
   ]
  },
  {
   "cell_type": "markdown",
   "id": "e5ca20d8",
   "metadata": {
    "id": "Wq3z1mYXz0X2",
    "papermill": {
     "duration": 0.014086,
     "end_time": "2023-03-03T12:14:35.522538",
     "exception": false,
     "start_time": "2023-03-03T12:14:35.508452",
     "status": "completed"
    },
    "tags": []
   },
   "source": [
    "## **Feature definitions**\n",
    "\n",
    "*   **campaign_item_id** : unique id of each adevertising campaign\n",
    "*   **no_of_days** : number of days campaign has been running\n",
    "*   **time** : timestamp on which the data was captured\n",
    "*   **ext_service_id** : id of each advertising platforms used\n",
    "*   **ext_service_name** : name of each advertising platforms used\n",
    "*   **creative_id** : id of the creative images used for ads\n",
    "*   **creative_height** : height of the creative image for the ad in pixels\n",
    "*   **creative_width** : width of the creative image for the ad in pixels\n",
    "*   **search_tags** : search tags used for displaying ads\n",
    "*   **template_id** : template used in the creative image\n",
    "*   **landing_page** : landing page url on which users clicked or browsed through\n",
    "*   **advertiser_id** : id of the advertiser\n",
    "*  **advertiser_name** : name of the place of the advertiser ( city , country , state )\n",
    "*  **network_id** : id of the each agency\n",
    "*  **advertiser_currency** : currency of the country in which the advertiser operates in\n",
    "*  **channel_id** : id of each channel used for placed ads\n",
    "*  **channel_name** : name of the channel ( display , search , social , mobile video )\n",
    "*  **max_bid_cpm** : maximum value of bid for optimizing cpm\n",
    "*  **campaign_budget_usd** : overall budget of the campaign or the amount of money that the campaign can spend\n",
    "*  **impressions** : the number of times an advertisement is displayed on a website or social media platform.\n",
    "*  **clicks** : the number of times an advertisement is clicked on by a user, leading them to the advertiser's website or landing page.\n",
    "*  **currency_code** : the currency code of the advertiser\n",
    "*  **exchange_rate** : a relative price of one currency expressed in terms of another currency.\n",
    "*  **media_cost_usd** : the amount of money that the campaign has spent on that particuar day\n",
    "*  **position_in_content** : position where the ad was placed on the website page\n",
    "*  **unique_reach** : the number of unique users who see your post or page.\n",
    "*  **total_reach** : the number of people who saw any content from your page or about your page.\n",
    "*  **search_tags** : a word or set of words a person enters when searching on Google or one of our Search Network sites.\n",
    "*  **cmi_currency_code** : campaign currency code\n",
    "*  **time_zone** : timezone in which the campaign is running\n",
    "*  **weekday_cat** : weekday / weekend catgeory\n",
    "*  **keywords** : a word or set of words that Google Ads advertisers can add to a given ad group so that your ads are targeting the right audience.\n",
    "\n",
    "\n",
    "\n",
    "\n",
    "\n",
    "\n",
    "\n",
    "\n",
    "\n",
    "\n",
    "\n",
    "\n"
   ]
  },
  {
   "cell_type": "markdown",
   "id": "b5a64be9",
   "metadata": {
    "id": "-VJEwJSRL_bE",
    "papermill": {
     "duration": 0.014735,
     "end_time": "2023-03-03T12:14:35.551789",
     "exception": false,
     "start_time": "2023-03-03T12:14:35.537054",
     "status": "completed"
    },
    "tags": []
   },
   "source": [
    "### **Import Required Libraries**"
   ]
  },
  {
   "cell_type": "code",
   "execution_count": null,
   "id": "669f5a33",
   "metadata": {
    "execution": {
     "iopub.execute_input": "2023-03-03T12:14:35.585683Z",
     "iopub.status.busy": "2023-03-03T12:14:35.584907Z",
     "iopub.status.idle": "2023-03-03T12:14:40.462782Z",
     "shell.execute_reply": "2023-03-03T12:14:40.461434Z"
    },
    "id": "5bzhkLeVMBve",
    "papermill": {
     "duration": 4.898341,
     "end_time": "2023-03-03T12:14:40.466159",
     "exception": false,
     "start_time": "2023-03-03T12:14:35.567818",
     "status": "completed"
    },
    "tags": []
   },
   "outputs": [],
   "source": [
    "# Import \n",
    "import numpy as np\n",
    "import pandas as pd\n",
    "import altair as alt\n",
    "import pandas_profiling as pp\n",
    "\n",
    "\n",
    "import matplotlib.pyplot as plt\n",
    "%matplotlib inline\n",
    "\n",
    "import seaborn as sns\n",
    "\n",
    "import warnings # to avoid warnings\n",
    "warnings.filterwarnings('ignore')\n"
   ]
  },
  {
   "cell_type": "code",
   "execution_count": null,
   "id": "a54a88b8",
   "metadata": {},
   "outputs": [],
   "source": [
    "import plotly.graph_objs as go\n",
    "import plotly.offline as pyo\n",
    "import plotly.express as px\n",
    "\n"
   ]
  },
  {
   "cell_type": "code",
   "execution_count": null,
   "id": "84cc4fe5",
   "metadata": {
    "execution": {
     "iopub.execute_input": "2023-03-03T12:14:40.499323Z",
     "iopub.status.busy": "2023-03-03T12:14:40.497915Z",
     "iopub.status.idle": "2023-03-03T12:14:40.504555Z",
     "shell.execute_reply": "2023-03-03T12:14:40.503247Z"
    },
    "id": "v7oOA3oTdEMS",
    "papermill": {
     "duration": 0.025647,
     "end_time": "2023-03-03T12:14:40.507198",
     "exception": false,
     "start_time": "2023-03-03T12:14:40.481551",
     "status": "completed"
    },
    "tags": []
   },
   "outputs": [],
   "source": [
    "# display all columns of the dataframe\n",
    "pd.options.display.max_columns = None\n",
    "\n",
    "# use below code to convert the 'exponential' values to float\n",
    "np.set_printoptions(suppress=True)"
   ]
  },
  {
   "cell_type": "code",
   "execution_count": null,
   "id": "f176fb5d",
   "metadata": {
    "execution": {
     "iopub.execute_input": "2023-03-03T12:14:40.540914Z",
     "iopub.status.busy": "2023-03-03T12:14:40.540183Z",
     "iopub.status.idle": "2023-03-03T12:14:40.546174Z",
     "shell.execute_reply": "2023-03-03T12:14:40.544842Z"
    },
    "id": "bw7IFYXh7Y9k",
    "papermill": {
     "duration": 0.025457,
     "end_time": "2023-03-03T12:14:40.548730",
     "exception": false,
     "start_time": "2023-03-03T12:14:40.523273",
     "status": "completed"
    },
    "tags": []
   },
   "outputs": [],
   "source": [
    "# set the plot size using 'rcParams'\n",
    "# once the plot size is set using 'rcParams', it sets the size of all the forthcoming plots in the file\n",
    "# pass width and height in inches to 'figure.figsize' \n",
    "plt.rcParams['figure.figsize'] = [15,8]"
   ]
  },
  {
   "cell_type": "markdown",
   "id": "b4c0c622",
   "metadata": {
    "id": "W8HrwFFGi8Uo",
    "papermill": {
     "duration": 0.015294,
     "end_time": "2023-03-03T12:14:40.579656",
     "exception": false,
     "start_time": "2023-03-03T12:14:40.564362",
     "status": "completed"
    },
    "tags": []
   },
   "source": [
    "### **Load and Exploring the dataset**"
   ]
  },
  {
   "cell_type": "code",
   "execution_count": null,
   "id": "2bab69f1",
   "metadata": {
    "execution": {
     "iopub.execute_input": "2023-03-03T12:14:40.614585Z",
     "iopub.status.busy": "2023-03-03T12:14:40.613170Z",
     "iopub.status.idle": "2023-03-03T12:14:41.614289Z",
     "shell.execute_reply": "2023-03-03T12:14:41.613038Z"
    },
    "id": "RTz55S5XVh8v",
    "outputId": "c1fb1e62-5d1d-4dec-ba3c-40a50beef9e3",
    "papermill": {
     "duration": 1.02135,
     "end_time": "2023-03-03T12:14:41.618005",
     "exception": false,
     "start_time": "2023-03-03T12:14:40.596655",
     "status": "completed"
    },
    "tags": []
   },
   "outputs": [],
   "source": [
    "# load\n",
    "df=pd.read_csv(\"dataset.csv\",low_memory=False)\n",
    "\n",
    "# preview 5 first 5 rows\n",
    "df.head(5)"
   ]
  },
  {
   "cell_type": "code",
   "execution_count": null,
   "id": "18c1f0d3",
   "metadata": {
    "execution": {
     "iopub.execute_input": "2023-03-03T12:14:41.651050Z",
     "iopub.status.busy": "2023-03-03T12:14:41.650326Z",
     "iopub.status.idle": "2023-03-03T12:14:41.657776Z",
     "shell.execute_reply": "2023-03-03T12:14:41.656491Z"
    },
    "id": "WluJUA_jWH7w",
    "outputId": "2400b5e7-1180-493c-8f4a-43a340963410",
    "papermill": {
     "duration": 0.027154,
     "end_time": "2023-03-03T12:14:41.660473",
     "exception": false,
     "start_time": "2023-03-03T12:14:41.633319",
     "status": "completed"
    },
    "tags": []
   },
   "outputs": [],
   "source": [
    "# see total number of rows\n",
    "df.shape "
   ]
  },
  {
   "cell_type": "code",
   "execution_count": null,
   "id": "3111c213",
   "metadata": {
    "execution": {
     "iopub.execute_input": "2023-03-03T12:14:41.693938Z",
     "iopub.status.busy": "2023-03-03T12:14:41.693084Z",
     "iopub.status.idle": "2023-03-03T12:14:41.701473Z",
     "shell.execute_reply": "2023-03-03T12:14:41.700212Z"
    },
    "id": "Es0UDNxYYVuL",
    "outputId": "2bdb8df0-9fe4-4d8e-a1f5-f9d9aef93325",
    "papermill": {
     "duration": 0.028333,
     "end_time": "2023-03-03T12:14:41.704211",
     "exception": false,
     "start_time": "2023-03-03T12:14:41.675878",
     "status": "completed"
    },
    "tags": []
   },
   "outputs": [],
   "source": [
    "df.columns"
   ]
  },
  {
   "cell_type": "code",
   "execution_count": null,
   "id": "ff1a14a0",
   "metadata": {
    "execution": {
     "iopub.execute_input": "2023-03-03T12:14:41.768846Z",
     "iopub.status.busy": "2023-03-03T12:14:41.768441Z",
     "iopub.status.idle": "2023-03-03T12:14:41.848879Z",
     "shell.execute_reply": "2023-03-03T12:14:41.847435Z"
    },
    "id": "XXO7CJp0b9I8",
    "outputId": "53be5551-685f-4007-b91b-45ac0dee9eb2",
    "papermill": {
     "duration": 0.100919,
     "end_time": "2023-03-03T12:14:41.852232",
     "exception": false,
     "start_time": "2023-03-03T12:14:41.751313",
     "status": "completed"
    },
    "tags": []
   },
   "outputs": [],
   "source": [
    "df.info() "
   ]
  },
  {
   "cell_type": "markdown",
   "id": "f860e08c",
   "metadata": {
    "id": "X4mJNy7NexUz",
    "papermill": {
     "duration": 0.015503,
     "end_time": "2023-03-03T12:14:41.884584",
     "exception": false,
     "start_time": "2023-03-03T12:14:41.869081",
     "status": "completed"
    },
    "tags": []
   },
   "source": [
    "### Cleaning Null Values "
   ]
  },
  {
   "cell_type": "code",
   "execution_count": null,
   "id": "04b24a03",
   "metadata": {
    "execution": {
     "iopub.execute_input": "2023-03-03T12:14:41.919814Z",
     "iopub.status.busy": "2023-03-03T12:14:41.918792Z",
     "iopub.status.idle": "2023-03-03T12:14:42.119408Z",
     "shell.execute_reply": "2023-03-03T12:14:42.118128Z"
    },
    "id": "nPjvb9S5e0F5",
    "outputId": "30ff7ba7-d04c-4fe2-8800-496e7d9ec68d",
    "papermill": {
     "duration": 0.221318,
     "end_time": "2023-03-03T12:14:42.122230",
     "exception": false,
     "start_time": "2023-03-03T12:14:41.900912",
     "status": "completed"
    },
    "tags": []
   },
   "outputs": [],
   "source": [
    "# sort the variables on the basis of total null values in the variable\n",
    "Total = df.isnull().sum().sort_values(ascending = False)          \n",
    "\n",
    "#calculate nulls\n",
    "Percent = (df.isnull().sum()*100/df.isnull().count()).sort_values(ascending = False)   \n",
    "missing_data = pd.concat([Total, Percent], axis = 1, keys = ['Total', 'Percentage of Missing Values'])    \n",
    "\n",
    "# add the column containing data type of each variable\n",
    "missing_data['Type'] = df[missing_data.index].dtypes\n",
    "missing_data"
   ]
  },
  {
   "cell_type": "code",
   "execution_count": null,
   "id": "1621764a",
   "metadata": {
    "execution": {
     "iopub.execute_input": "2023-03-03T12:14:42.190594Z",
     "iopub.status.busy": "2023-03-03T12:14:42.189394Z",
     "iopub.status.idle": "2023-03-03T12:14:42.201220Z",
     "shell.execute_reply": "2023-03-03T12:14:42.200200Z"
    },
    "id": "0bsJQVuyjV6z",
    "papermill": {
     "duration": 0.032425,
     "end_time": "2023-03-03T12:14:42.203942",
     "exception": false,
     "start_time": "2023-03-03T12:14:42.171517",
     "status": "completed"
    },
    "tags": []
   },
   "outputs": [],
   "source": [
    "# creative width\n",
    "df['creative_width'] = df['creative_width'].fillna(0) \n",
    "\n",
    "# creative height\n",
    "df['creative_height'] = df['creative_height'].fillna(0)\n",
    "\n",
    "# template id\n",
    "df['template_id'] = df['template_id'].fillna(-1)\n",
    "\n",
    "# approved_budget\n",
    "df['approved_budget'] = df['approved_budget'].fillna(0)"
   ]
  },
  {
   "cell_type": "markdown",
   "id": "8c24b6bb",
   "metadata": {
    "id": "R0Z5qLQ2eWaM",
    "papermill": {
     "duration": 0.0163,
     "end_time": "2023-03-03T12:14:42.236777",
     "exception": false,
     "start_time": "2023-03-03T12:14:42.220477",
     "status": "completed"
    },
    "tags": []
   },
   "source": [
    "### **Drop unnecessary columns**\n",
    "\n",
    "* Prune features that are entirely made up of null or actively harmful to analysis."
   ]
  },
  {
   "cell_type": "code",
   "execution_count": null,
   "id": "7148d33d",
   "metadata": {
    "execution": {
     "iopub.execute_input": "2023-03-03T12:14:42.271467Z",
     "iopub.status.busy": "2023-03-03T12:14:42.270996Z",
     "iopub.status.idle": "2023-03-03T12:14:42.288954Z",
     "shell.execute_reply": "2023-03-03T12:14:42.287710Z"
    },
    "id": "fpeSQfFIeavz",
    "papermill": {
     "duration": 0.038581,
     "end_time": "2023-03-03T12:14:42.291823",
     "exception": false,
     "start_time": "2023-03-03T12:14:42.253242",
     "status": "completed"
    },
    "tags": []
   },
   "outputs": [],
   "source": [
    "df.drop(columns=['position_in_content','unique_reach','total_reach','max_bid_cpm'],inplace=True)"
   ]
  },
  {
   "cell_type": "markdown",
   "id": "566c36f4",
   "metadata": {
    "id": "f5xP_20up201",
    "papermill": {
     "duration": 0.016298,
     "end_time": "2023-03-03T12:14:42.324523",
     "exception": false,
     "start_time": "2023-03-03T12:14:42.308225",
     "status": "completed"
    },
    "tags": []
   },
   "source": [
    "* **no_of_days** : campaigns run for atleast a month , so when no_of_days == 0 means one day only.\n",
    "* **\n"
   ]
  },
  {
   "cell_type": "code",
   "execution_count": null,
   "id": "71c96d58",
   "metadata": {
    "execution": {
     "iopub.execute_input": "2023-03-03T12:14:42.360415Z",
     "iopub.status.busy": "2023-03-03T12:14:42.359743Z",
     "iopub.status.idle": "2023-03-03T12:14:42.468630Z",
     "shell.execute_reply": "2023-03-03T12:14:42.467206Z"
    },
    "id": "olYz8qUHp6lL",
    "outputId": "88d935fa-5ebc-4fc9-af9a-d094f25217f7",
    "papermill": {
     "duration": 0.130314,
     "end_time": "2023-03-03T12:14:42.471832",
     "exception": false,
     "start_time": "2023-03-03T12:14:42.341518",
     "status": "completed"
    },
    "tags": []
   },
   "outputs": [],
   "source": [
    "df.describe()"
   ]
  },
  {
   "cell_type": "markdown",
   "id": "44b9f1df",
   "metadata": {
    "id": "hssTNwjP4qpG",
    "papermill": {
     "duration": 0.017688,
     "end_time": "2023-03-03T12:14:42.506753",
     "exception": false,
     "start_time": "2023-03-03T12:14:42.489065",
     "status": "completed"
    },
    "tags": []
   },
   "source": [
    "* **ext_service_name** : most ads were Facebook Ads since it is the most populated social channel for target audience. \n",
    "* **landing_page** : boho jewelry page has the most clicked ads."
   ]
  },
  {
   "cell_type": "code",
   "execution_count": null,
   "id": "b0f2c3ea",
   "metadata": {
    "execution": {
     "iopub.execute_input": "2023-03-03T12:14:42.543873Z",
     "iopub.status.busy": "2023-03-03T12:14:42.543419Z",
     "iopub.status.idle": "2023-03-03T12:14:42.694885Z",
     "shell.execute_reply": "2023-03-03T12:14:42.693474Z"
    },
    "id": "KOjTqX7ErD_9",
    "outputId": "75c18d0f-aae0-48c5-eb42-8dceeb283b51",
    "papermill": {
     "duration": 0.173373,
     "end_time": "2023-03-03T12:14:42.697783",
     "exception": false,
     "start_time": "2023-03-03T12:14:42.524410",
     "status": "completed"
    },
    "tags": []
   },
   "outputs": [],
   "source": [
    "# summary of categorical variables\n",
    "df.describe(include=object)\n",
    "\n",
    "# Note: If we pass 'include=object' to the .describe(), it will return descriptive statistics for categorical variables only"
   ]
  },
  {
   "cell_type": "markdown",
   "id": "0922fa04",
   "metadata": {
    "id": "KvOqdiTt8pGC",
    "papermill": {
     "duration": 0.016897,
     "end_time": "2023-03-03T12:14:42.732307",
     "exception": false,
     "start_time": "2023-03-03T12:14:42.715410",
     "status": "completed"
    },
    "tags": []
   },
   "source": [
    "### **Creating a metric to measure Clicks per appearance**"
   ]
  },
  {
   "cell_type": "code",
   "execution_count": null,
   "id": "e44a2c5b",
   "metadata": {
    "execution": {
     "iopub.execute_input": "2023-03-03T12:14:42.770312Z",
     "iopub.status.busy": "2023-03-03T12:14:42.769448Z",
     "iopub.status.idle": "2023-03-03T12:14:42.777093Z",
     "shell.execute_reply": "2023-03-03T12:14:42.776111Z"
    },
    "id": "1Xm-eDcb8wW1",
    "papermill": {
     "duration": 0.029735,
     "end_time": "2023-03-03T12:14:42.779717",
     "exception": false,
     "start_time": "2023-03-03T12:14:42.749982",
     "status": "completed"
    },
    "tags": []
   },
   "outputs": [],
   "source": [
    "df['ctr']=(df['clicks']/df['impressions'])*100"
   ]
  },
  {
   "cell_type": "code",
   "execution_count": null,
   "id": "5a0e5823",
   "metadata": {
    "scrolled": true
   },
   "outputs": [],
   "source": [
    "df.loc[:,:].sort_values('ctr',ascending=False)[1000:1050]"
   ]
  },
  {
   "cell_type": "code",
   "execution_count": null,
   "id": "a9d858c0",
   "metadata": {
    "scrolled": true
   },
   "outputs": [],
   "source": [
    "df.loc[:,:].sort_values('clicks',ascending=False)[1000:1050]"
   ]
  },
  {
   "cell_type": "code",
   "execution_count": null,
   "id": "9c2ab834",
   "metadata": {},
   "outputs": [],
   "source": [
    "df['ext_service_name'].value_counts()"
   ]
  },
  {
   "cell_type": "markdown",
   "id": "3ecf64ec",
   "metadata": {
    "id": "tI2YD1NGOQxX",
    "papermill": {
     "duration": 0.016767,
     "end_time": "2023-03-03T12:14:42.813524",
     "exception": false,
     "start_time": "2023-03-03T12:14:42.796757",
     "status": "completed"
    },
    "tags": []
   },
   "source": [
    "# **Visualization Implementations**\n",
    "**Reasonings are conveyed at the chart descriptions**\n"
   ]
  },
  {
   "cell_type": "markdown",
   "id": "bd42424b",
   "metadata": {
    "id": "JSuQwF2rH7R7",
    "papermill": {
     "duration": 0.016921,
     "end_time": "2023-03-03T12:14:42.847598",
     "exception": false,
     "start_time": "2023-03-03T12:14:42.830677",
     "status": "completed"
    },
    "tags": []
   },
   "source": [
    "## **Histogram chart**\n",
    "A histogram is used to illustrate the distribution of a dataset and displays which values are most frequent.\n",
    "\n",
    "**Reasons**\n",
    "1.   To calculate the probability of representation of any value of a continuous variable\n",
    "2.    Helps to visualize whether the distribution is symmetric or skewed left or right.\n",
    "3. It can also show any outliers or gaps in the data. \n",
    "\n",
    "\n",
    "\n",
    "---\n",
    "\n"
   ]
  },
  {
   "cell_type": "markdown",
   "id": "a6586eb7",
   "metadata": {
    "id": "w6--ybpc_--K",
    "papermill": {
     "duration": 0.017765,
     "end_time": "2023-03-03T12:14:42.882969",
     "exception": false,
     "start_time": "2023-03-03T12:14:42.865204",
     "status": "completed"
    },
    "tags": []
   },
   "source": [
    "The benchmarks for CTR ( Click through rate ) is 0.76% for Style & Fashion tags (Google) and 2.71% to be in Top 10% competition. Our CTR distribution lies between 0.76-2.71 for ABC company."
   ]
  },
  {
   "cell_type": "code",
   "execution_count": null,
   "id": "9119943c",
   "metadata": {
    "execution": {
     "iopub.execute_input": "2023-03-03T12:14:42.922373Z",
     "iopub.status.busy": "2023-03-03T12:14:42.921538Z",
     "iopub.status.idle": "2023-03-03T12:14:43.264509Z",
     "shell.execute_reply": "2023-03-03T12:14:43.260380Z"
    },
    "id": "wKDg-gVkBQGF",
    "outputId": "148c5838-ed5f-41d8-81fe-016479d30772",
    "papermill": {
     "duration": 0.368688,
     "end_time": "2023-03-03T12:14:43.269978",
     "exception": false,
     "start_time": "2023-03-03T12:14:42.901290",
     "status": "completed"
    },
    "tags": []
   },
   "outputs": [],
   "source": [
    "# Clicks per 100 Appearances Frequency Distribution\n",
    "# set the xlabel and the fontsize\n",
    "plt.xlabel(\"ctr\", fontsize=15)\n",
    "\n",
    "# set the ylabel and the fontsize\n",
    "plt.ylabel(\"Frequency\", fontsize=15)\n",
    "\n",
    "# set the title of the plot\n",
    "plt.title(\"Clicks per 100 Appearances Distribution\", fontsize=15)\n",
    "\n",
    "# plot the histogram for the target variable\n",
    "plt.hist(df.loc[(df[\"ctr\"]>=0.1) & (df[\"ctr\"]<=0.76)]['ctr'])\n",
    "plt.show()"
   ]
  },
  {
   "cell_type": "code",
   "execution_count": null,
   "id": "25a00827",
   "metadata": {},
   "outputs": [],
   "source": [
    "# Filter the data and create a histogram\n",
    "hist_data = df.loc[(df[\"ctr\"]>0.1) & (df[\"ctr\"]<=3.71)]['ctr']\n",
    "fig = px.histogram(hist_data, nbins=20)\n",
    "\n",
    "# Set the layout properties\n",
    "fig.update_layout(\n",
    "    title=\"Clicks per 100 Appearances Distribution\",\n",
    "    xaxis_title=\"cpa\",\n",
    "    yaxis_title=\"Frequency\",\n",
    "    font=dict(size=15),\n",
    "    showlegend=False,    width=750, # set width to 500 pixels\n",
    "    height=500, # set height to 500 pixels\n",
    "\n",
    ")\n",
    "\n",
    "fig.show()"
   ]
  },
  {
   "cell_type": "markdown",
   "id": "b9ddab41",
   "metadata": {
    "id": "d-mAihvfSX7q",
    "papermill": {
     "duration": 0.019223,
     "end_time": "2023-03-03T12:14:43.670480",
     "exception": false,
     "start_time": "2023-03-03T12:14:43.651257",
     "status": "completed"
    },
    "tags": []
   },
   "source": [
    "## **SCATTER PLOT**\n",
    "\n",
    "#### Purpose:\n",
    "\n",
    "\n",
    "1. Identify easily visible patterns and relationships\n",
    "\n",
    "2. Detecting outliers\n",
    "\n",
    "3. Visualize trends over time\n",
    "\n",
    "\n",
    "---\n"
   ]
  },
  {
   "cell_type": "markdown",
   "id": "9ef005ac",
   "metadata": {
    "id": "YcI5cc8BPzfj",
    "papermill": {
     "duration": 0.019246,
     "end_time": "2023-03-03T12:14:43.708696",
     "exception": false,
     "start_time": "2023-03-03T12:14:43.689450",
     "status": "completed"
    },
    "tags": []
   },
   "source": [
    "## **Conclusions**\n",
    "\n",
    "1. As campaign length increases, impressions and clicks decrease \n",
    "\n",
    "3. Campaigns of longer duration have constant & low impressions and clicks \n",
    "\n",
    "4. The graphs below can show that most campaigns with less duration were newly created or paused due to poor performance.\n",
    "\n",
    "5. We can spot outliers in both the graphs which indicates sudden spikes in the impressions and clicks which maybe due to certain events such as festivals , social media popularity , etc . We can further analyse at what time of the day , on which days , in which season , festivals , national or public holidays the performance usually goes up.\n",
    "\n",
    "\n"
   ]
  },
  {
   "cell_type": "markdown",
   "id": "70a15031",
   "metadata": {},
   "source": [
    "## Prettier Graph"
   ]
  },
  {
   "cell_type": "code",
   "execution_count": null,
   "id": "029fb207",
   "metadata": {},
   "outputs": [],
   "source": [
    "import plotly.express as px\n",
    "\n",
    "fig = px.scatter(df, x=\"no_of_days\", y=\"impressions\", trendline=\"ols\",    width=750, # set width to 500 pixels\n",
    "    height=500, # set height to 500 pixels\n",
    ")\n",
    "fig.show()"
   ]
  },
  {
   "cell_type": "code",
   "execution_count": null,
   "id": "ff4fd49d",
   "metadata": {},
   "outputs": [],
   "source": [
    "\n",
    "fig = px.scatter(df, x=\"no_of_days\", y=\"clicks\", trendline=\"ols\",    width=750, # set width to 500 pixels\n",
    "    height=500, # set height to 500 pixels\n",
    ")\n",
    "fig.show()"
   ]
  },
  {
   "cell_type": "markdown",
   "id": "360480bd",
   "metadata": {
    "id": "s4ywTtjwWODD",
    "papermill": {
     "duration": 0.020671,
     "end_time": "2023-03-03T12:15:01.242326",
     "exception": false,
     "start_time": "2023-03-03T12:15:01.221655",
     "status": "completed"
    },
    "tags": []
   },
   "source": [
    "## **`Conclusions`**\n",
    "\n",
    "1. Mobile campaigns are able to get higher clicks\n",
    "2. The performance of search campaigns needs to be improved \n",
    "3. Social campaigns are able to reach audiences more but unable to get conversions"
   ]
  },
  {
   "cell_type": "code",
   "execution_count": null,
   "id": "d2b09143",
   "metadata": {
    "execution": {
     "iopub.execute_input": "2023-03-03T12:15:01.288233Z",
     "iopub.status.busy": "2023-03-03T12:15:01.287277Z",
     "iopub.status.idle": "2023-03-03T12:15:02.803051Z",
     "shell.execute_reply": "2023-03-03T12:15:02.802095Z"
    },
    "id": "54QfQnPhU0to",
    "outputId": "05417326-d2e8-4df2-ca16-1ac3101ea47f",
    "papermill": {
     "duration": 1.54139,
     "end_time": "2023-03-03T12:15:02.805364",
     "exception": false,
     "start_time": "2023-03-03T12:15:01.263974",
     "status": "completed"
    },
    "tags": []
   },
   "outputs": [],
   "source": [
    "# scatter plot : impressions vs clicks ( hue : channel_name )\n",
    "sns.lmplot(x = \"impressions\", y = \"clicks\", data = df, fit_reg=False, hue='channel_name')\n"
   ]
  },
  {
   "cell_type": "code",
   "execution_count": null,
   "id": "456d57b5",
   "metadata": {},
   "outputs": [],
   "source": [
    "fig = px.scatter(df, x=\"impressions\", y=\"clicks\", color=\"channel_name\",\n",
    "                 hover_name=\"channel_name\",\n",
    "                 labels={\"impressions\": \"Impressions\", \"clicks\": \"Clicks\"},\n",
    "                 title=\"Impressions vs Clicks by Channel Name\")\n",
    "\n",
    "fig.update_layout(\n",
    "    font=dict(size=14),\n",
    "    legend=dict(title=None),\n",
    "    plot_bgcolor=\"white\",\n",
    "    margin=dict(l=80, r=20, t=60, b=80),\n",
    "    width=750, # set width to 500 pixels\n",
    "    height=500, # set height to 500 pixels\n",
    ")\n",
    "\n",
    "\n",
    "fig.show()"
   ]
  },
  {
   "cell_type": "markdown",
   "id": "2b7c5c74",
   "metadata": {
    "id": "lZotpDREaytc",
    "papermill": {
     "duration": 0.023324,
     "end_time": "2023-03-03T12:15:02.898882",
     "exception": false,
     "start_time": "2023-03-03T12:15:02.875558",
     "status": "completed"
    },
    "tags": []
   },
   "source": [
    "## **`Conclusions`**\n",
    " \n",
    "1. Top 3 countries where the campaigns are running are India, Oman , Qatar & UAE. This means the our company mainly operates in the Middle Eastern Asian region .\n",
    "2. We can further find out performance metrics of each country vs budget they were alloted to gauge the relative performance and take more informed decision."
   ]
  },
  {
   "cell_type": "markdown",
   "id": "5ee68495",
   "metadata": {},
   "source": [
    "## **Making a more Readable Visualization**\n",
    "\n",
    "We need to group Indian states as one country."
   ]
  },
  {
   "cell_type": "code",
   "execution_count": null,
   "id": "6f615ac4",
   "metadata": {},
   "outputs": [],
   "source": [
    "#  calculate data\n",
    "labels=df['advertiser_name'].value_counts().index,\n",
    "values=df['advertiser_name'].value_counts(),"
   ]
  },
  {
   "cell_type": "code",
   "execution_count": null,
   "id": "ca14d405",
   "metadata": {},
   "outputs": [],
   "source": [
    "df_abridged=df"
   ]
  },
  {
   "cell_type": "code",
   "execution_count": null,
   "id": "f5fc27fc",
   "metadata": {},
   "outputs": [],
   "source": [
    "df.head()"
   ]
  },
  {
   "cell_type": "code",
   "execution_count": null,
   "id": "43900a1e",
   "metadata": {
    "scrolled": true
   },
   "outputs": [],
   "source": [
    "India = ['Andhra Pradesh', 'Karnataka', 'Pan India','North', 'Gujarat', 'Orissa', 'Tamil Nadu', 'Maharashtra', 'West Bengal', 'Madhya Pradesh', 'Coimbatore', 'Bangalore', 'Chennai', 'Punjab', 'Delhi', 'Haryana', 'UP','Pali', 'Vadodara']\n",
    "\n",
    "Oman = ['Muscat','Sohar']\n",
    "\n",
    "Qatar = ['Doha']\n",
    "\n",
    "UAE = ['Dubai', 'Abu Dhabi']\n",
    "\n",
    "Bahrain = ['Manama']\n",
    "\n",
    "Kuwait = ['Kuwait City', 'Al Ahmadi']\n",
    "\n",
    "KSA = ['Jeddah']\n",
    "\n",
    "Malaysia = ['Kuala Lumpur']\n",
    "\n",
    "Singapore = ['Singapore']\n",
    "\n",
    "USA = ['New York']\n",
    "\n",
    "Thailand = ['Bangkok']\n",
    "\n",
    "Egypt = ['Cairo', 'Luxor',  'Almaza Bay']\n",
    "\n",
    "Bangladesh = ['Chattogram', 'Chandpur']\n",
    "\n",
    "Ethiopia = ['Addis Ababa']\n"
   ]
  },
  {
   "cell_type": "code",
   "execution_count": null,
   "id": "26f702e0",
   "metadata": {},
   "outputs": [],
   "source": [
    "cities_by_country = {'India': India,\n",
    "'Oman': Oman,\n",
    "'Qatar': Qatar,\n",
    "'UAE': UAE,\n",
    "'Bahrain': Bahrain,\n",
    "'Kuwait': Kuwait,\n",
    "'KSA': KSA,\n",
    "'Malaysia': Malaysia,\n",
    "'Singapore': Singapore,\n",
    "'USA': USA,\n",
    "'Thailand': Thailand,\n",
    "'Egypt': Egypt,\n",
    "'Bangladesh': Bangladesh,\n",
    "'Ethiopia': Ethiopia}"
   ]
  },
  {
   "cell_type": "code",
   "execution_count": null,
   "id": "66f937bc",
   "metadata": {},
   "outputs": [],
   "source": [
    "for country,cities in cities_by_country.items():\n",
    "    df.loc[df['advertiser_name'].isin(cities), \"advertiser_name\"] = country\n",
    "    "
   ]
  },
  {
   "cell_type": "code",
   "execution_count": null,
   "id": "b9716251",
   "metadata": {},
   "outputs": [],
   "source": [
    "label = df['advertiser_name'].value_counts().index\n",
    "name = df['advertiser_name'].value_counts()"
   ]
  },
  {
   "cell_type": "code",
   "execution_count": null,
   "id": "506347a9",
   "metadata": {
    "scrolled": false
   },
   "outputs": [],
   "source": [
    "\n",
    "# Create data for the Pie Chart\n",
    "data = [go.Pie(labels=name.index,\n",
    "               values=name,\n",
    "               hole=0.4,\n",
    "               textposition='inside',\n",
    "               textinfo='label+percent',\n",
    "               hoverinfo='label+percent+value')]\n",
    "\n",
    "# Set layout for the Pie Chart\n",
    "layout = go.Layout(title='Ad Campaigns running accross the globe (Percentage)',\n",
    "                   showlegend=False,\n",
    "                   legend=dict(orientation=\"h\"),\n",
    "                   width=1000,\n",
    "                   height=500,)\n",
    "\n",
    "# Create figure object\n",
    "fig = go.Figure(data=data, layout=layout)\n",
    "\n",
    "# Display the figure\n",
    "pyo.iplot(fig)"
   ]
  },
  {
   "cell_type": "code",
   "execution_count": null,
   "id": "40865adc",
   "metadata": {},
   "outputs": [],
   "source": [
    "data_2=df.groupby('advertiser_name')['clicks'].sum().sort_values()"
   ]
  },
  {
   "cell_type": "code",
   "execution_count": null,
   "id": "e87aea52",
   "metadata": {},
   "outputs": [],
   "source": [
    "\n",
    "# Create data for the Pie Chart\n",
    "data = [go.Pie(labels=data_2.index,\n",
    "               values=data_2,\n",
    "               hole=0.4,\n",
    "               textposition='inside',\n",
    "               textinfo='label+percent',\n",
    "               hoverinfo='label+percent+value')]\n",
    "\n",
    "# Set layout for the Pie Chart\n",
    "layout = go.Layout(title='Clicks across the Globe (%)',\n",
    "                   showlegend=False,\n",
    "                    width=1000,\n",
    "                   height=500,)\n",
    "\n",
    "# Create figure object\n",
    "fig = go.Figure(data=data, layout=layout)\n",
    "\n",
    "# Display the figure\n",
    "pyo.iplot(fig)"
   ]
  },
  {
   "cell_type": "code",
   "execution_count": null,
   "id": "8781ff8b",
   "metadata": {},
   "outputs": [],
   "source": [
    "data_3=df.groupby('advertiser_name')['impressions'].sum().sort_values()"
   ]
  },
  {
   "cell_type": "code",
   "execution_count": null,
   "id": "e8a0bbeb",
   "metadata": {},
   "outputs": [],
   "source": [
    "\n",
    "# Create data for the Pie Chart\n",
    "data = [go.Pie(labels=data_3.index,\n",
    "               values=data_3,\n",
    "               hole=0.4,\n",
    "               textposition='inside',\n",
    "               textinfo='label+percent',\n",
    "               hoverinfo='label+percent+value')]\n",
    "\n",
    "# Set layout for the Pie Chart\n",
    "layout = go.Layout(title='Ad Appearances across the Globe (%)',\n",
    "                   showlegend=False,\n",
    "                    width=1000,\n",
    "                   height=500,)\n",
    "\n",
    "# Create figure object\n",
    "fig = go.Figure(data=data, layout=layout)\n",
    "\n",
    "# Display the figure\n",
    "pyo.iplot(fig)"
   ]
  },
  {
   "cell_type": "code",
   "execution_count": null,
   "id": "98e41b8f",
   "metadata": {},
   "outputs": [],
   "source": [
    "data_4=df.groupby('advertiser_name')['ctr'].mean().sort_values()"
   ]
  },
  {
   "cell_type": "code",
   "execution_count": null,
   "id": "bf7741a0",
   "metadata": {},
   "outputs": [],
   "source": [
    "data_4"
   ]
  }
 ],
 "metadata": {
  "kernelspec": {
   "display_name": "Python 3 (ipykernel)",
   "language": "python",
   "name": "python3"
  },
  "language_info": {
   "codemirror_mode": {
    "name": "ipython",
    "version": 3
   },
   "file_extension": ".py",
   "mimetype": "text/x-python",
   "name": "python",
   "nbconvert_exporter": "python",
   "pygments_lexer": "ipython3",
   "version": "3.10.4"
  },
  "papermill": {
   "default_parameters": {},
   "duration": 48.150708,
   "end_time": "2023-03-03T12:15:12.108881",
   "environment_variables": {},
   "exception": null,
   "input_path": "__notebook__.ipynb",
   "output_path": "__notebook__.ipynb",
   "parameters": {},
   "start_time": "2023-03-03T12:14:23.958173",
   "version": "2.4.0"
  }
 },
 "nbformat": 4,
 "nbformat_minor": 5
}
